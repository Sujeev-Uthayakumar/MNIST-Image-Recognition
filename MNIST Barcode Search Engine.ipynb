{
 "cells": [
  {
   "cell_type": "code",
   "execution_count": 2,
   "metadata": {},
   "outputs": [],
   "source": [
    "import numpy as np\n",
    "import matplotlib.pyplot as plt\n",
    "import imageio\n",
    "import scipy as sio\n",
    "import os\n",
    "import pandas as pd\n",
    "from scipy import ndimage"
   ]
  },
  {
   "cell_type": "code",
   "execution_count": 3,
   "metadata": {},
   "outputs": [
    {
     "name": "stdout",
     "output_type": "stream",
     "text": [
      "       Unnamed: 0                                           Barcodes  Labels\n",
      "0               0  [[0. 0. 0. 0. 0. 0. 0. 0. 1. 1. 1. 1. 1. 1. 1....       5\n",
      "1               1  [[0. 0. 0. 0. 0. 0. 0. 1. 1. 1. 1. 1. 1. 1. 1....       0\n",
      "2               2  [[0. 0. 0. 1. 1. 1. 0. 0. 0. 0. 0. 0. 0. 0. 0....       4\n",
      "3               3  [[0. 0. 0. 0. 0. 0. 0. 0. 0. 1. 1. 1. 1. 1. 1....       1\n",
      "4               4  [[0. 0. 0. 0. 0. 0. 0. 1. 1. 1. 1. 1. 1. 1. 1....       9\n",
      "...           ...                                                ...     ...\n",
      "59995       59995  [[0. 0. 0. 0. 0. 0. 0. 1. 1. 1. 1. 1. 1. 1. 1....       8\n",
      "59996       59996  [[0. 0. 0. 0. 0. 0. 1. 1. 0. 0. 0. 1. 1. 1. 1....       3\n",
      "59997       59997  [[0. 0. 0. 0. 0. 0. 0. 0. 0. 1. 1. 1. 1. 1. 1....       5\n",
      "59998       59998  [[0. 0. 0. 0. 0. 0. 0. 1. 1. 1. 1. 1. 1. 1. 1....       6\n",
      "59999       59999  [[0. 0. 0. 0. 0. 0. 0. 1. 1. 1. 1. 1. 1. 1. 1....       8\n",
      "\n",
      "[60000 rows x 3 columns]\n"
     ]
    }
   ],
   "source": [
    "df=pd.read_excel(r'MNISTBarcodeTrainingDataset.xlsx')\n",
    "print(df)"
   ]
  },
  {
   "cell_type": "code",
   "execution_count": null,
   "metadata": {},
   "outputs": [],
   "source": []
  },
  {
   "cell_type": "code",
   "execution_count": null,
   "metadata": {},
   "outputs": [],
   "source": []
  },
  {
   "cell_type": "code",
   "execution_count": null,
   "metadata": {},
   "outputs": [],
   "source": []
  }
 ],
 "metadata": {
  "kernelspec": {
   "display_name": "Python 3",
   "language": "python",
   "name": "python3"
  },
  "language_info": {
   "codemirror_mode": {
    "name": "ipython",
    "version": 3
   },
   "file_extension": ".py",
   "mimetype": "text/x-python",
   "name": "python",
   "nbconvert_exporter": "python",
   "pygments_lexer": "ipython3",
   "version": "3.8.5"
  }
 },
 "nbformat": 4,
 "nbformat_minor": 2
}
