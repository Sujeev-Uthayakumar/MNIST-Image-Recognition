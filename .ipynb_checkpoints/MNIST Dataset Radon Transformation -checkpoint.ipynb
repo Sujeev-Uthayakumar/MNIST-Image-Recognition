{
 "cells": [
  {
   "cell_type": "code",
   "execution_count": 156,
   "metadata": {},
   "outputs": [],
   "source": [
    "import numpy as np\n",
    "import imageio\n",
    "import scipy as sio\n",
    "import os\n",
    "import pandas as pd\n",
    "from scipy import ndimage"
   ]
  },
  {
   "cell_type": "code",
   "execution_count": 157,
   "metadata": {},
   "outputs": [],
   "source": [
    "#%%\n",
    "from mlxtend.data import loadlocal_mnist\n",
    "import platform\n",
    "\n",
    "if not platform.system() == 'Windows':\n",
    "    X_data, Y_label = loadlocal_mnist(\n",
    "            images_path='MNIST/train-images-idx3-ubyte',\n",
    "            labels_path='MNIST/train-labels-idx1-ubyte')\n",
    "\n",
    "else:\n",
    "    X_data, Y_label = loadlocal_mnist(\n",
    "            images_path='MNIST/train-images.idx3-ubyte',\n",
    "            labels_path='MNIST/train-labels.idx1-ubyte')"
   ]
  },
  {
   "cell_type": "code",
   "execution_count": 158,
   "metadata": {
    "scrolled": false
   },
   "outputs": [
    {
     "name": "stdout",
     "output_type": "stream",
     "text": [
      "[  0.   0.   0.   0.   0.   0.   0.   0.   0.   0.   0.   0.   0.   0.\n",
      "   0.   0.   0.   0.   0.   0.   0.   0.   0.   0.   0.   0.   0.   0.\n",
      "   0.   0.   0.   0.   0.   0.   0.   0.   0.   0.   0.   0.   0.   0.\n",
      "   0.   0.   0.   0.   0.   0.   0.   0.   0.   0.   0.   0.   0.   0.\n",
      "   0.   0.   0.   0.   0.   0.   0.   0.   0.   0.   0.   0.   0.   0.\n",
      "   0.   0.   0.   0.   0.   0.   0.   0.   0.   0.   0.   0.   0.   0.\n",
      "   0.   0.   0.   0.   0.   0.   0.   0.   0.   0.   0.   0.   0.   0.\n",
      "   0.   0.   0.   0.   0.   0.   0.   0.   0.   0.   0.   0.   0.   0.\n",
      "   0.   0.   0.   0.   0.   0.   0.   0.   0.   0.   0.   0.   0.   0.\n",
      "   0.   0.   0.   0.   0.   0.   0.   0.   0.   0.   0.   0.   0.   0.\n",
      "   0.   0.   0.   0.   0.   0.   0.   0.   0.   0.   0.   0.   3.  18.\n",
      "  18.  18. 126. 136. 175.  26. 166. 255. 247. 127.   0.   0.   0.   0.\n",
      "   0.   0.   0.   0.   0.   0.   0.   0.  30.  36.  94. 154. 170. 253.\n",
      " 253. 253. 253. 253. 225. 172. 253. 242. 195.  64.   0.   0.   0.   0.\n",
      "   0.   0.   0.   0.   0.   0.   0.  49. 238. 253. 253. 253. 253. 253.\n",
      " 253. 253. 253. 251.  93.  82.  82.  56.  39.   0.   0.   0.   0.   0.\n",
      "   0.   0.   0.   0.   0.   0.   0.  18. 219. 253. 253. 253. 253. 253.\n",
      " 198. 182. 247. 241.   0.   0.   0.   0.   0.   0.   0.   0.   0.   0.\n",
      "   0.   0.   0.   0.   0.   0.   0.   0.  80. 156. 107. 253. 253. 205.\n",
      "  11.   0.  43. 154.   0.   0.   0.   0.   0.   0.   0.   0.   0.   0.\n",
      "   0.   0.   0.   0.   0.   0.   0.   0.   0.  14.   1. 154. 253.  90.\n",
      "   0.   0.   0.   0.   0.   0.   0.   0.   0.   0.   0.   0.   0.   0.\n",
      "   0.   0.   0.   0.   0.   0.   0.   0.   0.   0.   0. 139. 253. 190.\n",
      "   2.   0.   0.   0.   0.   0.   0.   0.   0.   0.   0.   0.   0.   0.\n",
      "   0.   0.   0.   0.   0.   0.   0.   0.   0.   0.   0.  11. 190. 253.\n",
      "  70.   0.   0.   0.   0.   0.   0.   0.   0.   0.   0.   0.   0.   0.\n",
      "   0.   0.   0.   0.   0.   0.   0.   0.   0.   0.   0.   0.  35. 241.\n",
      " 225. 160. 108.   1.   0.   0.   0.   0.   0.   0.   0.   0.   0.   0.\n",
      "   0.   0.   0.   0.   0.   0.   0.   0.   0.   0.   0.   0.   0.  81.\n",
      " 240. 253. 253. 119.  25.   0.   0.   0.   0.   0.   0.   0.   0.   0.\n",
      "   0.   0.   0.   0.   0.   0.   0.   0.   0.   0.   0.   0.   0.   0.\n",
      "  45. 186. 253. 253. 150.  27.   0.   0.   0.   0.   0.   0.   0.   0.\n",
      "   0.   0.   0.   0.   0.   0.   0.   0.   0.   0.   0.   0.   0.   0.\n",
      "   0.  16.  93. 252. 253. 187.   0.   0.   0.   0.   0.   0.   0.   0.\n",
      "   0.   0.   0.   0.   0.   0.   0.   0.   0.   0.   0.   0.   0.   0.\n",
      "   0.   0.   0. 249. 253. 249.  64.   0.   0.   0.   0.   0.   0.   0.\n",
      "   0.   0.   0.   0.   0.   0.   0.   0.   0.   0.   0.   0.   0.   0.\n",
      "  46. 130. 183. 253. 253. 207.   2.   0.   0.   0.   0.   0.   0.   0.\n",
      "   0.   0.   0.   0.   0.   0.   0.   0.   0.   0.   0.   0.  39. 148.\n",
      " 229. 253. 253. 253. 250. 182.   0.   0.   0.   0.   0.   0.   0.   0.\n",
      "   0.   0.   0.   0.   0.   0.   0.   0.   0.   0.  24. 114. 221. 253.\n",
      " 253. 253. 253. 201.  78.   0.   0.   0.   0.   0.   0.   0.   0.   0.\n",
      "   0.   0.   0.   0.   0.   0.   0.   0.  23.  66. 213. 253. 253. 253.\n",
      " 253. 198.  81.   2.   0.   0.   0.   0.   0.   0.   0.   0.   0.   0.\n",
      "   0.   0.   0.   0.   0.   0.  18. 171. 219. 253. 253. 253. 253. 195.\n",
      "  80.   9.   0.   0.   0.   0.   0.   0.   0.   0.   0.   0.   0.   0.\n",
      "   0.   0.   0.   0.  55. 172. 226. 253. 253. 253. 253. 244. 133.  11.\n",
      "   0.   0.   0.   0.   0.   0.   0.   0.   0.   0.   0.   0.   0.   0.\n",
      "   0.   0.   0.   0. 136. 253. 253. 253. 212. 135. 132.  16.   0.   0.\n",
      "   0.   0.   0.   0.   0.   0.   0.   0.   0.   0.   0.   0.   0.   0.\n",
      "   0.   0.   0.   0.   0.   0.   0.   0.   0.   0.   0.   0.   0.   0.\n",
      "   0.   0.   0.   0.   0.   0.   0.   0.   0.   0.   0.   0.   0.   0.\n",
      "   0.   0.   0.   0.   0.   0.   0.   0.   0.   0.   0.   0.   0.   0.\n",
      "   0.   0.   0.   0.   0.   0.   0.   0.   0.   0.   0.   0.   0.   0.\n",
      "   0.   0.   0.   0.   0.   0.   0.   0.   0.   0.   0.   0.   0.   0.\n",
      "   0.   0.   0.   0.   0.   0.   0.   0.   0.   0.   0.   0.   0.   0.]\n"
     ]
    },
    {
     "data": {
      "image/png": "[encoded data removed]",
      "text/plain": [
       "<Figure size 2016x2016 with 1 Axes>"
      ]
     },
     "metadata": {},
     "output_type": "display_data"
    }
   ],
   "source": [
    "import matplotlib.pyplot as plt\n",
    "plt.figure(1, figsize=(28,28))\n",
    "X_data = X_data.astype('float32')\n",
    "for i in range(i+1):\n",
    "    plt.subplot(1,10,i+1)\n",
    "    plt.imshow(X_data[i].reshape(28,28), cmap='gray', interpolation='nearest')\n",
    "    print(X_data[i])\n",
    "    plt.xticks([])\n",
    "    plt.yticks([])\n",
    "#%%"
   ]
  },
  {
   "cell_type": "markdown",
   "metadata": {},
   "source": [
    "## MNIST Dataset Radon Transformation"
   ]
  },
  {
   "cell_type": "code",
   "execution_count": 159,
   "metadata": {},
   "outputs": [
    {
     "name": "stdout",
     "output_type": "stream",
     "text": [
      "[[   0.]\n",
      " [   0.]\n",
      " [   0.]\n",
      " [   0.]\n",
      " [ 191.]\n",
      " [ 425.]\n",
      " [ 497.]\n",
      " [ 744.]\n",
      " [1274.]\n",
      " [1419.]\n",
      " [1583.]\n",
      " [2097.]\n",
      " [2562.]\n",
      " [2697.]\n",
      " [2176.]\n",
      " [2164.]\n",
      " [2399.]\n",
      " [2618.]\n",
      " [1755.]\n",
      " [1132.]\n",
      " [ 567.]\n",
      " [ 553.]\n",
      " [ 481.]\n",
      " [ 191.]\n",
      " [   0.]\n",
      " [   0.]\n",
      " [   0.]\n",
      " [   0.]]\n",
      "[[False]\n",
      " [False]\n",
      " [False]\n",
      " [False]\n",
      " [False]\n",
      " [False]\n",
      " [False]\n",
      " [False]\n",
      " [ True]\n",
      " [ True]\n",
      " [ True]\n",
      " [ True]\n",
      " [ True]\n",
      " [ True]\n",
      " [ True]\n",
      " [ True]\n",
      " [ True]\n",
      " [ True]\n",
      " [ True]\n",
      " [ True]\n",
      " [False]\n",
      " [False]\n",
      " [False]\n",
      " [False]\n",
      " [False]\n",
      " [False]\n",
      " [False]\n",
      " [False]]\n",
      "[0. 0. 0. 0. 0. 0. 0. 0. 1. 1. 1. 1. 1. 1. 1. 1. 1. 1. 1. 1. 0. 0. 0. 0.\n",
      " 0. 0. 0. 0.]\n"
     ]
    },
    {
     "data": {
      "image/png": "[encoded data removed]",
      "text/plain": [
       "<Figure size 432x288 with 1 Axes>"
      ]
     },
     "metadata": {
      "needs_background": "light"
     },
     "output_type": "display_data"
    },
    {
     "name": "stdout",
     "output_type": "stream",
     "text": [
      "[[ 258.06006]\n",
      " [ 544.65326]\n",
      " [ 679.8353 ]\n",
      " [ 738.728  ]\n",
      " [ 818.7736 ]\n",
      " [ 774.22235]\n",
      " [ 822.67126]\n",
      " [ 792.9565 ]\n",
      " [ 787.04407]\n",
      " [ 794.04004]\n",
      " [ 827.46344]\n",
      " [ 787.07776]\n",
      " [ 793.814  ]\n",
      " [1029.2245 ]\n",
      " [2911.1924 ]\n",
      " [3653.2876 ]\n",
      " [2426.2207 ]\n",
      " [1192.9672 ]\n",
      " [ 902.72266]\n",
      " [1066.9697 ]\n",
      " [1182.534  ]\n",
      " [ 813.17535]\n",
      " [ 655.58545]\n",
      " [ 589.5801 ]\n",
      " [ 507.43976]\n",
      " [ 615.7257 ]\n",
      " [ 426.4173 ]\n",
      " [ 111.31114]]\n",
      "[[False]\n",
      " [False]\n",
      " [False]\n",
      " [False]\n",
      " [False]\n",
      " [False]\n",
      " [False]\n",
      " [False]\n",
      " [False]\n",
      " [False]\n",
      " [False]\n",
      " [False]\n",
      " [False]\n",
      " [ True]\n",
      " [ True]\n",
      " [ True]\n",
      " [ True]\n",
      " [ True]\n",
      " [False]\n",
      " [ True]\n",
      " [ True]\n",
      " [False]\n",
      " [False]\n",
      " [False]\n",
      " [False]\n",
      " [False]\n",
      " [False]\n",
      " [False]]\n",
      "[0. 0. 0. 0. 0. 0. 0. 0. 1. 1. 1. 1. 1. 1. 1. 1. 1. 1. 1. 1. 0. 0. 0. 0.\n",
      " 0. 0. 0. 0. 0. 0. 0. 0. 0. 0. 0. 0. 0. 0. 0. 0. 0. 1. 1. 1. 1. 1. 0. 1.\n",
      " 1. 0. 0. 0. 0. 0. 0. 0.]\n"
     ]
    },
    {
     "data": {
      "image/png": "[encoded data removed]",
      "text/plain": [
       "<Figure size 432x288 with 1 Axes>"
      ]
     },
     "metadata": {
      "needs_background": "light"
     },
     "output_type": "display_data"
    },
    {
     "name": "stdout",
     "output_type": "stream",
     "text": [
      "[[   0.]\n",
      " [   0.]\n",
      " [   0.]\n",
      " [   0.]\n",
      " [1390.]\n",
      " [1853.]\n",
      " [1704.]\n",
      " [1595.]\n",
      " [1650.]\n",
      " [1607.]\n",
      " [1074.]\n",
      " [ 815.]\n",
      " [ 801.]\n",
      " [ 914.]\n",
      " [ 971.]\n",
      " [ 770.]\n",
      " [ 524.]\n",
      " [ 584.]\n",
      " [ 512.]\n",
      " [1262.]\n",
      " [2370.]\n",
      " [2914.]\n",
      " [2900.]\n",
      " [1315.]\n",
      " [   0.]\n",
      " [   0.]\n",
      " [   0.]\n",
      " [   0.]]\n",
      "[[False]\n",
      " [False]\n",
      " [False]\n",
      " [False]\n",
      " [ True]\n",
      " [ True]\n",
      " [ True]\n",
      " [ True]\n",
      " [ True]\n",
      " [ True]\n",
      " [ True]\n",
      " [False]\n",
      " [False]\n",
      " [False]\n",
      " [False]\n",
      " [False]\n",
      " [False]\n",
      " [False]\n",
      " [False]\n",
      " [ True]\n",
      " [ True]\n",
      " [ True]\n",
      " [ True]\n",
      " [ True]\n",
      " [False]\n",
      " [False]\n",
      " [False]\n",
      " [False]]\n",
      "[0. 0. 0. 0. 0. 0. 0. 0. 1. 1. 1. 1. 1. 1. 1. 1. 1. 1. 1. 1. 0. 0. 0. 0.\n",
      " 0. 0. 0. 0. 0. 0. 0. 0. 0. 0. 0. 0. 0. 0. 0. 0. 0. 1. 1. 1. 1. 1. 0. 1.\n",
      " 1. 0. 0. 0. 0. 0. 0. 0. 0. 0. 0. 0. 1. 1. 1. 1. 1. 1. 1. 0. 0. 0. 0. 0.\n",
      " 0. 0. 0. 1. 1. 1. 1. 1. 0. 0. 0. 0.]\n"
     ]
    },
    {
     "data": {
      "image/png": "[encoded data removed]",
      "text/plain": [
       "<Figure size 432x288 with 1 Axes>"
      ]
     },
     "metadata": {
      "needs_background": "light"
     },
     "output_type": "display_data"
    },
    {
     "name": "stdout",
     "output_type": "stream",
     "text": [
      "[[0.0000000e+00]\n",
      " [0.0000000e+00]\n",
      " [0.0000000e+00]\n",
      " [0.0000000e+00]\n",
      " [0.0000000e+00]\n",
      " [0.0000000e+00]\n",
      " [2.4193483e+01]\n",
      " [5.1436890e+02]\n",
      " [1.5126613e+03]\n",
      " [2.4655955e+03]\n",
      " [2.8407314e+03]\n",
      " [2.5250625e+03]\n",
      " [2.0839009e+03]\n",
      " [1.7270165e+03]\n",
      " [1.5366094e+03]\n",
      " [1.3905723e+03]\n",
      " [1.4196093e+03]\n",
      " [1.5991411e+03]\n",
      " [1.8954171e+03]\n",
      " [1.7808687e+03]\n",
      " [1.3781476e+03]\n",
      " [1.2035051e+03]\n",
      " [9.6514075e+02]\n",
      " [5.2107257e+02]\n",
      " [1.1766359e+02]\n",
      " [2.4111128e+00]\n",
      " [0.0000000e+00]\n",
      " [0.0000000e+00]]\n",
      "[[False]\n",
      " [False]\n",
      " [False]\n",
      " [False]\n",
      " [False]\n",
      " [False]\n",
      " [False]\n",
      " [False]\n",
      " [ True]\n",
      " [ True]\n",
      " [ True]\n",
      " [ True]\n",
      " [ True]\n",
      " [ True]\n",
      " [ True]\n",
      " [ True]\n",
      " [ True]\n",
      " [ True]\n",
      " [ True]\n",
      " [ True]\n",
      " [ True]\n",
      " [ True]\n",
      " [False]\n",
      " [False]\n",
      " [False]\n",
      " [False]\n",
      " [False]\n",
      " [False]]\n",
      "[0. 0. 0. 0. 0. 0. 0. 0. 1. 1. 1. 1. 1. 1. 1. 1. 1. 1. 1. 1. 0. 0. 0. 0.\n",
      " 0. 0. 0. 0. 0. 0. 0. 0. 0. 0. 0. 0. 0. 0. 0. 0. 0. 1. 1. 1. 1. 1. 0. 1.\n",
      " 1. 0. 0. 0. 0. 0. 0. 0. 0. 0. 0. 0. 1. 1. 1. 1. 1. 1. 1. 0. 0. 0. 0. 0.\n",
      " 0. 0. 0. 1. 1. 1. 1. 1. 0. 0. 0. 0. 0. 0. 0. 0. 0. 0. 0. 0. 1. 1. 1. 1.\n",
      " 1. 1. 1. 1. 1. 1. 1. 1. 1. 1. 0. 0. 0. 0. 0. 0.]\n"
     ]
    },
    {
     "data": {
      "image/png": "[encoded data removed]",
      "text/plain": [
       "<Figure size 432x288 with 1 Axes>"
      ]
     },
     "metadata": {
      "needs_background": "light"
     },
     "output_type": "display_data"
    }
   ],
   "source": [
    "import matplotlib.pyplot as plt\n",
    "\n",
    "from skimage.io import imread\n",
    "from skimage import data_dir\n",
    "from skimage.transform import radon, iradon\n",
    "from scipy.ndimage import zoom\n",
    "from numpy import asarray\n",
    "\n",
    "from skimage.filters import threshold_mean\n",
    "\n",
    "X_data = X_data.astype('float32')\n",
    "P_NAngle=4\n",
    "\n",
    "for i in range(1):\n",
    "    P_Angle=0\n",
    "    #plt.subplot(1,10,i+1)\n",
    "    RBC=np.array([])\n",
    "    while P_Angle <180:\n",
    "        data=np.array([])\n",
    "        plt.imshow(X_data[i].reshape(28,28), cmap='gray', interpolation='nearest')\n",
    "        Th_P=radon(X_data[i].reshape(28,28),theta=[P_Angle])\n",
    "        P_Angle=P_Angle+(180/P_NAngle)\n",
    "        print(Th_P)\n",
    "    #Creating Threshold Values\n",
    "        thresh = threshold_mean(Th_P)\n",
    "        binary = Th_P >= thresh\n",
    "        data = np.asarray(binary)\n",
    "        RBC=np.append(RBC,data)\n",
    "        print(binary)\n",
    "        print(RBC)\n",
    "        RBC=np.expand_dims(RBC,axis=0)\n",
    "        plt.imshow(RBC, cmap='gray',interpolation='nearest')\n",
    "        plt.show()\n",
    "\n",
    "#%%"
   ]
  },
  {
   "cell_type": "markdown",
   "metadata": {},
   "source": [
    "## Testing and Screenshots"
   ]
  },
  {
   "cell_type": "code",
   "execution_count": 168,
   "metadata": {},
   "outputs": [
    {
     "name": "stdout",
     "output_type": "stream",
     "text": [
      "done\n"
     ]
    }
   ],
   "source": [
    "import matplotlib.pyplot as plt\n",
    "\n",
    "from skimage.io import imread\n",
    "from skimage import data_dir\n",
    "from skimage.transform import radon, iradon\n",
    "from skimage.transform import resize\n",
    "from scipy.ndimage import zoom\n",
    "from numpy import asarray\n",
    "\n",
    "from skimage.filters import threshold_mean\n",
    "\n",
    "X_data = X_data.astype('float32')\n",
    "\n",
    "P_NAngle=4\n",
    "Downsampling=28\n",
    "\n",
    "for i in range(1):\n",
    "    P_Angle=0\n",
    "    RBC=np.array([])\n",
    "    while P_Angle <180:\n",
    "        data=np.array([])\n",
    "        Th_P=radon(X_data[i].reshape(Downsampling,Downsampling),theta=[P_Angle])\n",
    "    #Creating Threshold Values\n",
    "        thresh = threshold_mean(Th_P)\n",
    "        binary = Th_P >= thresh\n",
    "        data = np.asarray(binary)\n",
    "        RBC=np.append(RBC,data)\n",
    "        P_Angle=P_Angle+(180/P_NAngle)\n",
    "        RBC=np.expand_dims(RBC,axis=0)\n",
    "    df=pd.DataFrame({'Labels':Y_label[i],'Barcodes':[RBC]})\n",
    "    df.to_excel('MNISTBarcodeDataset.xlsx')\n",
    "    #plt.axis('off')\n",
    "    #plt.imshow(RBC, cmap='gray',interpolation='nearest')\n",
    "    #print(RBC)\n",
    "    #plt.savefig('test1.jpg',bbox_inches='tight',pad_inches=0)\n",
    "print (\"done\")\n",
    "#%%"
   ]
  },
  {
   "cell_type": "code",
   "execution_count": null,
   "metadata": {},
   "outputs": [],
   "source": []
  },
  {
   "cell_type": "code",
   "execution_count": null,
   "metadata": {},
   "outputs": [],
   "source": []
  },
  {
   "cell_type": "code",
   "execution_count": null,
   "metadata": {},
   "outputs": [],
   "source": []
  },
  {
   "cell_type": "code",
   "execution_count": null,
   "metadata": {},
   "outputs": [],
   "source": []
  },
  {
   "cell_type": "code",
   "execution_count": null,
   "metadata": {},
   "outputs": [],
   "source": []
  }
 ],
 "metadata": {
  "kernelspec": {
   "display_name": "Python 3",
   "language": "python",
   "name": "python3"
  },
  "language_info": {
   "codemirror_mode": {
    "name": "ipython",
    "version": 3
   },
   "file_extension": ".py",
   "mimetype": "text/x-python",
   "name": "python",
   "nbconvert_exporter": "python",
   "pygments_lexer": "ipython3",
   "version": "3.8.5"
  }
 },
 "nbformat": 4,
 "nbformat_minor": 4
}
