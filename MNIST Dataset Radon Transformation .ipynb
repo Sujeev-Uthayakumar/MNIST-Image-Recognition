{
 "cells": [
  {
   "cell_type": "code",
   "execution_count": null,
   "metadata": {},
   "outputs": [],
   "source": [
    "import numpy as np\n",
    "import imageio\n",
    "import scipy as sio\n",
    "import os\n",
    "import pandas as pd\n",
    "from scipy import ndimage"
   ]
  },
  {
   "cell_type": "code",
   "execution_count": null,
   "metadata": {},
   "outputs": [],
   "source": [
    "#%%\n",
    "from mlxtend.data import loadlocal_mnist\n",
    "import platform\n",
    "\n",
    "if not platform.system() == 'Windows':\n",
    "    X_data, Y_label = loadlocal_mnist(\n",
    "            images_path='MNIST/train-images-idx3-ubyte',\n",
    "            labels_path='MNIST/train-labels-idx1-ubyte')\n",
    "\n",
    "else:\n",
    "    X_data, Y_label = loadlocal_mnist(\n",
    "            images_path='MNIST/train-images.idx3-ubyte',\n",
    "            labels_path='MNIST/train-labels.idx1-ubyte')"
   ]
  },
  {
   "cell_type": "code",
   "execution_count": null,
   "metadata": {
    "scrolled": false
   },
   "outputs": [],
   "source": [
    "import matplotlib.pyplot as plt\n",
    "plt.figure(1, figsize=(28,28))\n",
    "X_data = X_data.astype('float32')\n",
    "for i in range(i+1):\n",
    "    plt.subplot(1,10,i+1)\n",
    "    plt.imshow(X_data[i].reshape(28,28), cmap='gray', interpolation='nearest')\n",
    "    print(X_data[i])\n",
    "    plt.xticks([])\n",
    "    plt.yticks([])\n",
    "#%%"
   ]
  },
  {
   "cell_type": "markdown",
   "metadata": {},
   "source": [
    "## Testing and Screenshots"
   ]
  },
  {
   "cell_type": "code",
   "execution_count": null,
   "metadata": {},
   "outputs": [],
   "source": [
    "import matplotlib.pyplot as plt\n",
    "\n",
    "from skimage.io import imread\n",
    "from skimage import data_dir\n",
    "from skimage.transform import radon, iradon\n",
    "from skimage.transform import resize\n",
    "from scipy.ndimage import zoom\n",
    "from numpy import asarray\n",
    "\n",
    "from skimage.filters import threshold_mean\n",
    "\n",
    "X_data = X_data.astype('float32')\n",
    "\n",
    "P_NAngle=4\n",
    "Downsampling=28\n",
    "\n",
    "df=pd.DataFrame([])\n",
    "\n",
    "for i in range(60000):\n",
    "    P_Angle=0\n",
    "    RBC=np.array([])\n",
    "    while P_Angle <180:\n",
    "        data=np.array([])\n",
    "        Th_P=radon(X_data[i].reshape(Downsampling,Downsampling),theta=[P_Angle])\n",
    "    #Creating Threshold Values\n",
    "        thresh = threshold_mean(Th_P)\n",
    "        binary = Th_P >= thresh\n",
    "        data = np.asarray(binary)\n",
    "        RBC=np.append(RBC,data)\n",
    "        P_Angle=P_Angle+(180/P_NAngle)\n",
    "        RBC=np.expand_dims(RBC,axis=0)\n",
    "    new_row={'Labels':Y_label[i],'Barcodes':RBC}\n",
    "    df=df.append(new_row,ignore_index=True)\n",
    "    #plt.axis('off')\n",
    "    #plt.imshow(RBC, cmap='gray',interpolation='nearest')\n",
    "    #print(RBC)\n",
    "    #plt.savefig('test1.jpg',bbox_inches='tight',pad_inches=0)\n",
    "df.to_excel('MNISTBarcodeDataset.xlsx',index=False)\n",
    "print (\"done\")\n",
    "#%%"
   ]
  },
  {
   "cell_type": "markdown",
   "metadata": {},
   "source": [
    "## Final: MNIST Radon Barcode Generation Algorithm"
   ]
  },
  {
   "cell_type": "code",
   "execution_count": null,
   "metadata": {},
   "outputs": [],
   "source": [
    "X_data = X_data.astype('float32')\n",
    "\n",
    "P_NAngle=4\n",
    "Downsampling=28\n",
    "\n",
    "df=pd.DataFrame([])\n",
    "\n",
    "for i in range(600):\n",
    "    P_Angle=0\n",
    "    RBC=np.array([])\n",
    "    while P_Angle <180:\n",
    "        data=np.array([])\n",
    "#Radon Projections\n",
    "        Th_P=radon(X_data[i].reshape(Downsampling,Downsampling),theta=[P_Angle])\n",
    "#Creating Threshold Values\n",
    "        thresh = threshold_mean(Th_P)#Finds the threshold mean of the projection\n",
    "        binary = Th_P >= thresh#Determines whether 1 or 0 based on relation to the threshold mean\n",
    "        data = np.asarray(binary)\n",
    "        RBC=np.append(RBC,data)#Adds to the full barcode, till all projections are binarized \n",
    "        P_Angle=P_Angle+(180/P_NAngle)#Changes the angle of radon projection\n",
    "        RBC=np.expand_dims(RBC,axis=0)\n",
    "    new_row={'Labels':Y_label[i],'Barcodes':RBC}\n",
    "    df=df.append(new_row,ignore_index=True)#Adds the new row, to DataFrame\n",
    "#Generates barcodes to excel\n",
    "#df.to_excel('MNISTBarcodeGeneration.xlsx')\n",
    "print (\"Barcodes Generated\")\n",
    "#%%"
   ]
  },
  {
   "cell_type": "code",
   "execution_count": null,
   "metadata": {},
   "outputs": [],
   "source": []
  }
 ],
 "metadata": {
  "kernelspec": {
   "display_name": "Python 3",
   "language": "python",
   "name": "python3"
  },
  "language_info": {
   "codemirror_mode": {
    "name": "ipython",
    "version": 3
   },
   "file_extension": ".py",
   "mimetype": "text/x-python",
   "name": "python",
   "nbconvert_exporter": "python",
   "pygments_lexer": "ipython3",
   "version": "3.8.5"
  }
 },
 "nbformat": 4,
 "nbformat_minor": 4
}
